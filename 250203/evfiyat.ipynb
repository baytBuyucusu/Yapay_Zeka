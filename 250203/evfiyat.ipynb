{
 "cells": [
  {
   "cell_type": "code",
   "execution_count": 9,
   "id": "8fd803dd-64ab-496e-87f3-5cc59a903546",
   "metadata": {},
   "outputs": [],
   "source": [
    "# 1.Kütüphaneleri yüklüyoruz.\n",
    "import numpy as np\n",
    "import pandas as pd\n",
    "import seaborn as sns\n",
    "import matplotlib.pyplot as plt"
   ]
  },
  {
   "cell_type": "code",
   "execution_count": 17,
   "id": "a900b825-c1f2-4651-b7c3-d46dacc1c924",
   "metadata": {},
   "outputs": [],
   "source": [
    "# 2.Veri setini içeri aktarıyoruz.\n",
    "df = pd.read_csv('houses_Madrid.csv')"
   ]
  },
  {
   "cell_type": "code",
   "execution_count": 12,
   "id": "0a7cb35a-421e-49d8-973b-20fb10bbeacd",
   "metadata": {},
   "outputs": [
    {
     "data": {
      "text/plain": [
       "1261036"
      ]
     },
     "execution_count": 12,
     "metadata": {},
     "output_type": "execute_result"
    }
   ],
   "source": [
    "# 3. Veri setinin kaç satır kaç sütundan oluştuğuna bakalım.\n",
    "df.size"
   ]
  },
  {
   "cell_type": "code",
   "execution_count": 15,
   "id": "926d95f5-a782-4d83-be07-64469382b159",
   "metadata": {},
   "outputs": [
    {
     "data": {
      "text/plain": [
       "(21742, 58)"
      ]
     },
     "execution_count": 15,
     "metadata": {},
     "output_type": "execute_result"
    }
   ],
   "source": [
    "df.shape"
   ]
  },
  {
   "cell_type": "code",
   "execution_count": 14,
   "id": "269a290b-99b4-441b-8b2e-7018e1d1cffc",
   "metadata": {},
   "outputs": [
    {
     "data": {
      "text/plain": [
       "<bound method DataFrame.info of        Unnamed: 0     id                                              title  \\\n",
       "0               0  21742              Piso en venta en calle de Godella, 64   \n",
       "1               1  21741   Piso en venta en calle de la del Manojo de Rosas   \n",
       "2               2  21740               Piso en venta en calle del Talco, 68   \n",
       "3               3  21739               Piso en venta en calle Pedro Jiménez   \n",
       "4               4  21738  Piso en venta en carretera de Villaverde a Val...   \n",
       "...           ...    ...                                                ...   \n",
       "21737       21737      5       Ático en venta en Casco Histórico de Barajas   \n",
       "21738       21738      4  Piso en venta en Urb. Campo de las Naciones - ...   \n",
       "21739       21739      3  Piso en venta en Campo de las Naciones-Corralejos   \n",
       "21740       21740      2      Chalet adosado en venta en calle Burriana, 12   \n",
       "21741       21741      1             Piso en venta en calle San Epifanio, 9   \n",
       "\n",
       "                                       subtitle  sq_mt_built  sq_mt_useful  \\\n",
       "0                         San Cristóbal, Madrid         64.0          60.0   \n",
       "1                           Los Ángeles, Madrid         70.0           NaN   \n",
       "2                            San Andrés, Madrid         94.0          54.0   \n",
       "3                            San Andrés, Madrid         64.0           NaN   \n",
       "4                           Los Rosales, Madrid        108.0          90.0   \n",
       "...                                         ...          ...           ...   \n",
       "21737                           Barajas, Madrid         78.0           NaN   \n",
       "21738                           Barajas, Madrid         96.0          83.0   \n",
       "21739                           Barajas, Madrid        175.0           NaN   \n",
       "21740  Campo de las Naciones-Corralejos, Madrid        289.0           NaN   \n",
       "21741                          Imperial, Madrid         72.0           NaN   \n",
       "\n",
       "       n_rooms  n_bathrooms  n_floors  sq_mt_allotment  ...  \\\n",
       "0            2          1.0       NaN              NaN  ...   \n",
       "1            3          1.0       NaN              NaN  ...   \n",
       "2            2          2.0       NaN              NaN  ...   \n",
       "3            2          1.0       NaN              NaN  ...   \n",
       "4            2          2.0       NaN              NaN  ...   \n",
       "...        ...          ...       ...              ...  ...   \n",
       "21737        2          2.0       NaN              NaN  ...   \n",
       "21738        2          2.0       NaN              NaN  ...   \n",
       "21739        4          2.0       NaN              NaN  ...   \n",
       "21740        4          3.0       3.0            304.0  ...   \n",
       "21741        2          2.0       NaN              NaN  ...   \n",
       "\n",
       "       energy_certificate  has_parking has_private_parking  \\\n",
       "0                       D        False                 NaN   \n",
       "1              en trámite        False                 NaN   \n",
       "2             no indicado        False                 NaN   \n",
       "3              en trámite        False                 NaN   \n",
       "4              en trámite         True                 NaN   \n",
       "...                   ...          ...                 ...   \n",
       "21737          en trámite         True                 NaN   \n",
       "21738          en trámite         True                 NaN   \n",
       "21739                   E         True                 NaN   \n",
       "21740          en trámite         True                 NaN   \n",
       "21741                   A         True                 NaN   \n",
       "\n",
       "       has_public_parking is_parking_included_in_price parking_price  \\\n",
       "0                     NaN                          NaN           NaN   \n",
       "1                     NaN                          NaN           NaN   \n",
       "2                     NaN                          NaN           NaN   \n",
       "3                     NaN                          NaN           NaN   \n",
       "4                     NaN                         True           0.0   \n",
       "...                   ...                          ...           ...   \n",
       "21737                 NaN                         True           0.0   \n",
       "21738                 NaN                         True           0.0   \n",
       "21739                 NaN                         True           0.0   \n",
       "21740                 NaN                         True           0.0   \n",
       "21741                 NaN                         True           0.0   \n",
       "\n",
       "       is_orientation_north is_orientation_west is_orientation_south  \\\n",
       "0                     False                True                False   \n",
       "1                       NaN                 NaN                  NaN   \n",
       "2                       NaN                 NaN                  NaN   \n",
       "3                     False               False                 True   \n",
       "4                      True                True                 True   \n",
       "...                     ...                 ...                  ...   \n",
       "21737                   NaN                 NaN                  NaN   \n",
       "21738                 False                True                 True   \n",
       "21739                   NaN                 NaN                  NaN   \n",
       "21740                 False               False                 True   \n",
       "21741                   NaN                 NaN                  NaN   \n",
       "\n",
       "       is_orientation_east  \n",
       "0                    False  \n",
       "1                      NaN  \n",
       "2                      NaN  \n",
       "3                    False  \n",
       "4                     True  \n",
       "...                    ...  \n",
       "21737                  NaN  \n",
       "21738                 True  \n",
       "21739                  NaN  \n",
       "21740                False  \n",
       "21741                  NaN  \n",
       "\n",
       "[21742 rows x 58 columns]>"
      ]
     },
     "execution_count": 14,
     "metadata": {},
     "output_type": "execute_result"
    }
   ],
   "source": [
    "df.info\n",
    "# veri seti ile ilgili bilgi verir."
   ]
  },
  {
   "cell_type": "code",
   "execution_count": 13,
   "id": "a137bd99-f842-491e-89cb-1a355d77b538",
   "metadata": {},
   "outputs": [
    {
     "data": {
      "text/plain": [
       "Unnamed: 0                          0\n",
       "id                                  0\n",
       "title                               0\n",
       "subtitle                            0\n",
       "sq_mt_built                       126\n",
       "sq_mt_useful                    13514\n",
       "n_rooms                             0\n",
       "n_bathrooms                        16\n",
       "n_floors                        20305\n",
       "sq_mt_allotment                 20310\n",
       "latitude                        21742\n",
       "longitude                       21742\n",
       "raw_address                      5465\n",
       "is_exact_address_hidden             0\n",
       "street_name                      5905\n",
       "street_number                   15442\n",
       "portal                          21742\n",
       "floor                            2607\n",
       "is_floor_under                   1170\n",
       "door                            21742\n",
       "neighborhood_id                     0\n",
       "operation                           0\n",
       "rent_price                          0\n",
       "rent_price_by_area              21742\n",
       "is_rent_price_known                 0\n",
       "buy_price                           0\n",
       "buy_price_by_area                   0\n",
       "is_buy_price_known                  0\n",
       "house_type_id                     391\n",
       "is_renewal_needed                   0\n",
       "is_new_development                992\n",
       "built_year                      11742\n",
       "has_central_heating              8134\n",
       "has_individual_heating           8134\n",
       "are_pets_allowed                21742\n",
       "has_ac                          10531\n",
       "has_fitted_wardrobes             8343\n",
       "has_lift                         2386\n",
       "is_exterior                      3043\n",
       "has_garden                      20186\n",
       "has_pool                        16571\n",
       "has_terrace                     12194\n",
       "has_balcony                     18421\n",
       "has_storage_room                14044\n",
       "is_furnished                    21742\n",
       "is_kitchen_equipped             21742\n",
       "is_accessible                   17668\n",
       "has_green_zones                 17685\n",
       "energy_certificate                  0\n",
       "has_parking                         0\n",
       "has_private_parking             21742\n",
       "has_public_parking              21742\n",
       "is_parking_included_in_price    14023\n",
       "parking_price                   14023\n",
       "is_orientation_north            10384\n",
       "is_orientation_west             10384\n",
       "is_orientation_south            10384\n",
       "is_orientation_east             10384\n",
       "dtype: int64"
      ]
     },
     "execution_count": 13,
     "metadata": {},
     "output_type": "execute_result"
    }
   ],
   "source": [
    "# toplam boş değerler hangisi\n",
    "df.isnull().sum()"
   ]
  },
  {
   "cell_type": "code",
   "execution_count": 18,
   "id": "d9b45056-d090-4a2e-b145-358a946b1ce8",
   "metadata": {},
   "outputs": [
    {
     "name": "stdout",
     "output_type": "stream",
     "text": [
      "<class 'pandas.core.series.Series'>\n",
      "RangeIndex: 21742 entries, 0 to 21741\n",
      "Series name: door\n",
      "Non-Null Count  Dtype  \n",
      "--------------  -----  \n",
      "0 non-null      float64\n",
      "dtypes: float64(1)\n",
      "memory usage: 170.0 KB\n"
     ]
    }
   ],
   "source": [
    "df[\"door\"].info()\n",
    "# çok fazla null değere"
   ]
  },
  {
   "cell_type": "code",
   "execution_count": null,
   "id": "377f483b-a81f-4707-b40a-cca5335b077e",
   "metadata": {},
   "outputs": [],
   "source": []
  }
 ],
 "metadata": {
  "kernelspec": {
   "display_name": "Python 3 (ipykernel)",
   "language": "python",
   "name": "python3"
  },
  "language_info": {
   "codemirror_mode": {
    "name": "ipython",
    "version": 3
   },
   "file_extension": ".py",
   "mimetype": "text/x-python",
   "name": "python",
   "nbconvert_exporter": "python",
   "pygments_lexer": "ipython3",
   "version": "3.11.7"
  }
 },
 "nbformat": 4,
 "nbformat_minor": 5
}
