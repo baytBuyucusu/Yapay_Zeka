{
 "cells": [
  {
   "cell_type": "code",
   "execution_count": 1,
   "id": "76f96301-5962-4335-b94a-25882bd48054",
   "metadata": {},
   "outputs": [],
   "source": [
    "import numpy as np #numpy Kütüpahenesini np değişkenineni atadık \n"
   ]
  },
  {
   "cell_type": "code",
   "execution_count": 20,
   "id": "2dd815bc-4a23-4ada-b210-7038e2b8db51",
   "metadata": {},
   "outputs": [
    {
     "data": {
      "text/plain": [
       "array([[5, 5, 5],\n",
       "       [5, 5, 5],\n",
       "       [5, 5, 5],\n",
       "       [5, 5, 5]])"
      ]
     },
     "execution_count": 20,
     "metadata": {},
     "output_type": "execute_result"
    }
   ],
   "source": [
    "dizi=np.full((4,3),5) # full metodu sütunları ve satırları oluşturur.4 satır 3 sütun içindede 5 değeri olsun.\n",
    "dizi\n"
   ]
  },
  {
   "cell_type": "code",
   "execution_count": null,
   "id": "4cdbbe1a-0f1e-4947-ad53-2d1fd836495a",
   "metadata": {},
   "outputs": [],
   "source": [
    "# b ye basınca yeni satır ekler alt tarafa..."
   ]
  },
  {
   "cell_type": "code",
   "execution_count": 3,
   "id": "f9af732d-0653-4a1c-8910-d01aaa6ce96e",
   "metadata": {},
   "outputs": [
    {
     "data": {
      "text/plain": [
       "array([1, 2, 3])"
      ]
     },
     "execution_count": 3,
     "metadata": {},
     "output_type": "execute_result"
    }
   ],
   "source": [
    "np.array([1,2,3])"
   ]
  },
  {
   "cell_type": "code",
   "execution_count": 5,
   "id": "c390c95b-bb01-4f1c-92d7-e5c2227a9727",
   "metadata": {},
   "outputs": [
    {
     "data": {
      "text/plain": [
       "array(['elma', 'erik', 'iğde'], dtype='<U4')"
      ]
     },
     "execution_count": 5,
     "metadata": {},
     "output_type": "execute_result"
    }
   ],
   "source": [
    "dizi=np.array([\"elma\",\"erik\",\"iğde\"]) #diziyi \"dizi\" adında bir değişkene atadık.\n",
    "dizi"
   ]
  },
  {
   "cell_type": "code",
   "execution_count": 7,
   "id": "6cc7ff54-40e1-4e0a-b19c-7e3d5882295c",
   "metadata": {},
   "outputs": [],
   "source": [
    "dizi=np.array([1,2,3])"
   ]
  },
  {
   "cell_type": "code",
   "execution_count": 8,
   "id": "9dcb4a50-c42a-4caa-a72a-cd088af0d97b",
   "metadata": {},
   "outputs": [],
   "source": [
    "dizi=np.array([1,2,3.14])"
   ]
  },
  {
   "cell_type": "code",
   "execution_count": 10,
   "id": "c4a532ff-6de8-4e0b-be03-526c47a04dcb",
   "metadata": {},
   "outputs": [
    {
     "data": {
      "text/plain": [
       "dtype('float64')"
      ]
     },
     "execution_count": 10,
     "metadata": {},
     "output_type": "execute_result"
    }
   ],
   "source": [
    "dizi.dtype #dizinin değişken türünü verir.numpy dizelerede elemanların hepsi aynı türdedir."
   ]
  },
  {
   "cell_type": "code",
   "execution_count": 15,
   "id": "663c84ff-05aa-4e5e-9e2c-f9f6f3c47afe",
   "metadata": {},
   "outputs": [
    {
     "data": {
      "text/plain": [
       "array([1, 2, 3])"
      ]
     },
     "execution_count": 15,
     "metadata": {},
     "output_type": "execute_result"
    }
   ],
   "source": [
    "dizi=np.array([1,2,3.14],dtype=int)\n",
    "dizi"
   ]
  },
  {
   "cell_type": "code",
   "execution_count": 17,
   "id": "802d5d24-1807-41db-9035-f6ac9a79eee4",
   "metadata": {},
   "outputs": [
    {
     "data": {
      "text/plain": [
       "array([1, 2, 3, 4])"
      ]
     },
     "execution_count": 17,
     "metadata": {},
     "output_type": "execute_result"
    }
   ],
   "source": [
    "birboyut=np.array([1,2,3,4]) #bir boyutlu dizenin oluşumu\n",
    "birboyut"
   ]
  },
  {
   "cell_type": "code",
   "execution_count": 19,
   "id": "cf7b42ce-145b-44a8-9509-bd21f31429e4",
   "metadata": {},
   "outputs": [
    {
     "data": {
      "text/plain": [
       "array([[ 1,  2,  3,  4],\n",
       "       [ 5,  6,  7,  8],\n",
       "       [ 9, 10, 11, 12]])"
      ]
     },
     "execution_count": 19,
     "metadata": {},
     "output_type": "execute_result"
    }
   ],
   "source": [
    "ikiboyut=np.array([[1,2,3,4],[5,6,7,8],[9,10,11,12]]) #iki boyutlu dizenin oluşumu.\n",
    "ikiboyut"
   ]
  },
  {
   "cell_type": "code",
   "execution_count": 21,
   "id": "4d9b3e47-d577-4c77-93d7-592bf4d3e898",
   "metadata": {},
   "outputs": [
    {
     "data": {
      "text/plain": [
       "array([0., 0., 0., 0., 0., 0., 0.])"
      ]
     },
     "execution_count": 21,
     "metadata": {},
     "output_type": "execute_result"
    }
   ],
   "source": [
    "np.zeros(7)#zeros etiketi dizeye otomatik olarak 0 değerini veriri parantez içinde hangi sayıyı yazarsanız 7 tane değer ekler."
   ]
  },
  {
   "cell_type": "code",
   "execution_count": 22,
   "id": "2b6d2035-0666-40b0-95ce-a451245ab21a",
   "metadata": {},
   "outputs": [
    {
     "data": {
      "text/plain": [
       "array([[0, 0, 0],\n",
       "       [0, 0, 0]])"
      ]
     },
     "execution_count": 22,
     "metadata": {},
     "output_type": "execute_result"
    }
   ],
   "source": [
    "np.zeros((2,3),dtype=int),\n"
   ]
  },
  {
   "cell_type": "code",
   "execution_count": 23,
   "id": "cbe7b9f9-e615-4193-a684-07911e87c6cd",
   "metadata": {},
   "outputs": [
    {
     "data": {
      "text/plain": [
       "array([1., 1., 1.])"
      ]
     },
     "execution_count": 23,
     "metadata": {},
     "output_type": "execute_result"
    }
   ],
   "source": [
    "np.ones(3)"
   ]
  },
  {
   "cell_type": "code",
   "execution_count": 26,
   "id": "9479d941-6900-4829-a97d-a71689244112",
   "metadata": {},
   "outputs": [
    {
     "data": {
      "text/plain": [
       "array([[5, 5, 5],\n",
       "       [5, 5, 5],\n",
       "       [5, 5, 5],\n",
       "       [5, 5, 5]])"
      ]
     },
     "execution_count": 26,
     "metadata": {},
     "output_type": "execute_result"
    }
   ],
   "source": [
    "np.full((4,3,),5)\n"
   ]
  },
  {
   "cell_type": "code",
   "execution_count": 27,
   "id": "76ad03a4-2109-4405-9f1a-f6f259a59330",
   "metadata": {},
   "outputs": [
    {
     "data": {
      "text/plain": [
       "array([ 2,  7, 12, 17])"
      ]
     },
     "execution_count": 27,
     "metadata": {},
     "output_type": "execute_result"
    }
   ],
   "source": [
    "np.arange(2,22,5)"
   ]
  },
  {
   "cell_type": "code",
   "execution_count": 28,
   "id": "762c87e8-dca1-4dab-9fcc-61bd3c2bf6ab",
   "metadata": {},
   "outputs": [
    {
     "data": {
      "text/plain": [
       "array([ 2.        ,  3.33333333,  4.66666667,  6.        ,  7.33333333,\n",
       "        8.66666667, 10.        ])"
      ]
     },
     "execution_count": 28,
     "metadata": {},
     "output_type": "execute_result"
    }
   ],
   "source": [
    "np.linspace(2,10,num=7)"
   ]
  },
  {
   "cell_type": "code",
   "execution_count": 29,
   "id": "2d24672e-8f97-4736-a80f-f85b71b6890a",
   "metadata": {},
   "outputs": [
    {
     "data": {
      "text/plain": [
       "array([2, 9, 3, 2, 4])"
      ]
     },
     "execution_count": 29,
     "metadata": {},
     "output_type": "execute_result"
    }
   ],
   "source": [
    "np.random.randint(0,10,5)"
   ]
  },
  {
   "cell_type": "code",
   "execution_count": 30,
   "id": "13233c27-7856-4e98-922b-b1a752966632",
   "metadata": {},
   "outputs": [
    {
     "data": {
      "text/plain": [
       "array([[0, 0],\n",
       "       [3, 6],\n",
       "       [0, 9],\n",
       "       [4, 9],\n",
       "       [4, 4]])"
      ]
     },
     "execution_count": 30,
     "metadata": {},
     "output_type": "execute_result"
    }
   ],
   "source": [
    "np.random.randint(0,10,(5,2))"
   ]
  },
  {
   "cell_type": "code",
   "execution_count": 31,
   "id": "020835b8-1403-46e7-a09f-6f2ef30896d1",
   "metadata": {},
   "outputs": [
    {
     "data": {
      "text/plain": [
       "(3, 4)"
      ]
     },
     "execution_count": 31,
     "metadata": {},
     "output_type": "execute_result"
    }
   ],
   "source": [
    "dizi=np.array([[1,2,3,4],[5,6,7,8],[9,10,11,12]])\n",
    "dizi.shape"
   ]
  },
  {
   "cell_type": "code",
   "execution_count": 32,
   "id": "faf63f96-6a54-41f1-830d-446fe6d61348",
   "metadata": {},
   "outputs": [
    {
     "data": {
      "text/plain": [
       "2"
      ]
     },
     "execution_count": 32,
     "metadata": {},
     "output_type": "execute_result"
    }
   ],
   "source": [
    "dizi.ndim"
   ]
  },
  {
   "cell_type": "code",
   "execution_count": 33,
   "id": "cc43fef1-060d-4275-8592-cdebf45eb638",
   "metadata": {},
   "outputs": [
    {
     "data": {
      "text/plain": [
       "12"
      ]
     },
     "execution_count": 33,
     "metadata": {},
     "output_type": "execute_result"
    }
   ],
   "source": [
    "dizi.size"
   ]
  },
  {
   "cell_type": "code",
   "execution_count": 35,
   "id": "48bf112f-bec1-48c0-9c00-d4015d40762d",
   "metadata": {
    "scrolled": true
   },
   "outputs": [
    {
     "data": {
      "text/plain": [
       "4"
      ]
     },
     "execution_count": 35,
     "metadata": {},
     "output_type": "execute_result"
    }
   ],
   "source": [
    "dizi.itemsize"
   ]
  },
  {
   "cell_type": "code",
   "execution_count": null,
   "id": "aa709c57-8c54-42e1-b4d4-afb2f5ab6756",
   "metadata": {},
   "outputs": [],
   "source": []
  }
 ],
 "metadata": {
  "kernelspec": {
   "display_name": "Python 3 (ipykernel)",
   "language": "python",
   "name": "python3"
  },
  "language_info": {
   "codemirror_mode": {
    "name": "ipython",
    "version": 3
   },
   "file_extension": ".py",
   "mimetype": "text/x-python",
   "name": "python",
   "nbconvert_exporter": "python",
   "pygments_lexer": "ipython3",
   "version": "3.11.7"
  }
 },
 "nbformat": 4,
 "nbformat_minor": 5
}
